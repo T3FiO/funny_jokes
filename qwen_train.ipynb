{
 "cells": [
  {
   "cell_type": "code",
   "execution_count": null,
   "id": "a05afb3d",
   "metadata": {},
   "outputs": [],
   "source": [
    "from transformers import AutoTokenizer, AutoModelForCausalLM, BitsAndBytesConfig, TrainingArguments, Trainer\n",
    "import torch\n",
    "from datasets import load_dataset\n",
    "from peft import LoraConfig, get_peft_model\n",
    "import pandas as pd\n",
    "import os"
   ]
  },
  {
   "cell_type": "code",
   "execution_count": null,
   "id": "499373e8",
   "metadata": {},
   "outputs": [],
   "source": [
    "# data_path = os.path.join('data', 'scoutie', 'scoutieDataset_russian_jokes_with_vectors.csv') # dataset from world wide web\n",
    "data_path = os.path.join('data', 'parsed', 'data_jokes.csv') # parsed dataset anekdot.ru\n",
    "\n",
    "dataset = load_dataset(\"csv\", data_files=data_path)[\"train\"] "
   ]
  },
  {
   "cell_type": "code",
   "execution_count": null,
   "id": "8a7110c9",
   "metadata": {},
   "outputs": [],
   "source": [
    "tokenizer = AutoTokenizer.from_pretrained(\"Qwen/Qwen2.5-1.5B-Instruct\", trust_remote_code=True)\n",
    "tokenizer.pad_token = tokenizer.eos_token\n",
    "column_name = 'joke'\n",
    "def tokenize_function(examples):\n",
    "    tokenized = tokenizer(examples[column_name], truncation=True, max_length=128, padding=\"max_length\")\n",
    "    tokenized[\"labels\"] = tokenized[\"input_ids\"].copy()\n",
    "    return tokenized\n",
    "\n",
    "\n",
    "tokenized_dataset = dataset.map(tokenize_function, batched=True)"
   ]
  },
  {
   "cell_type": "code",
   "execution_count": null,
   "id": "25d3b347",
   "metadata": {},
   "outputs": [],
   "source": [
    "device = torch.device('cuda') if torch.cuda.is_available() else torch.device('cpu')\n",
    "print(device)"
   ]
  },
  {
   "cell_type": "code",
   "execution_count": null,
   "id": "fb408c43",
   "metadata": {},
   "outputs": [],
   "source": [
    "bnb_config = BitsAndBytesConfig(\n",
    "    load_in_4bit=True,\n",
    "    bnb_4bit_use_double_quant=True,\n",
    "    bnb_4bit_quant_type=\"nf4\",\n",
    "    bnb_4bit_compute_dtype=torch.bfloat16,\n",
    ")\n",
    "\n",
    "model = AutoModelForCausalLM.from_pretrained(\n",
    "    \"Qwen/Qwen2.5-1.5B-Instruct\",\n",
    "    quantization_config=bnb_config,\n",
    "    trust_remote_code=True,\n",
    "    device_map=\"auto\"\n",
    ")\n",
    "\n"
   ]
  },
  {
   "cell_type": "code",
   "execution_count": null,
   "id": "48ec3e86",
   "metadata": {},
   "outputs": [],
   "source": [
    "peft_config = LoraConfig(\n",
    "    task_type=\"CAUSAL_LM\",  # Для генерации текста\n",
    "    inference_mode=False,   # Режим обучения\n",
    "    r=16,                   # Rank матриц LoRA (можно 4-16)\n",
    "    lora_alpha=16,         # Коэффициент масштабирования\n",
    "    lora_dropout=0,     # Дропаут для стабильности\n",
    "    target_modules=[\n",
    "        \"q_proj\",          # Проекции запросов\n",
    "        \"k_proj\",          # Проекции ключей\n",
    "        \"v_proj\",          # Проекции значений\n",
    "        \"o_proj\",          # Выходные проекции\n",
    "        \"gate_proj\",       # Врата в FFN-слоях\n",
    "        \"up_proj\",         # Верхние проекции в FFN\n",
    "        \"down_proj\",       # Нижние проекции в FFN\n",
    "    ],\n",
    "    bias=\"none\",           # Не трогаем bias-параметры\n",
    ")\n",
    "\n",
    "model.add_adapter(adapter_config=peft_config, adapter_name='lora_2')\n",
    "model = get_peft_model(model, peft_config)\n",
    "model.print_trainable_parameters()"
   ]
  },
  {
   "cell_type": "code",
   "execution_count": null,
   "id": "fb40d5d4",
   "metadata": {},
   "outputs": [],
   "source": [
    "training_args = TrainingArguments(\n",
    "    output_dir=\"./qwen2.5-lora-jokes/v2.0\",\n",
    "    per_device_train_batch_size=8,    # ⚠️ Маленький batch для 4-bit!\n",
    "    gradient_accumulation_steps=4,    # \"Виртуальный\" batch_size = 2 * 4 = 8\n",
    "    num_train_epochs=1,\n",
    "    learning_rate=2e-4,               # Для LoRA можно повыше (1e-4 — 3e-4)\n",
    "    optim=\"paged_adamw_8bit\",         # Оптимизатор для 8-bit/4-bit\n",
    "    logging_steps=10,\n",
    "    save_steps=500,\n",
    "    label_names=[\"labels\"],\n",
    "    fp16=True,                        # Если GPU не поддерживает bfloat16\n",
    ")\n",
    "\n",
    "trainer = Trainer(\n",
    "    model=model,\n",
    "    args=training_args,\n",
    "    train_dataset=tokenized_dataset,\n",
    ")\n",
    "trainer.train()"
   ]
  }
 ],
 "metadata": {
  "kernelspec": {
   "display_name": "jokes_dasha",
   "language": "python",
   "name": "python3"
  },
  "language_info": {
   "codemirror_mode": {
    "name": "ipython",
    "version": 3
   },
   "file_extension": ".py",
   "mimetype": "text/x-python",
   "name": "python",
   "nbconvert_exporter": "python",
   "pygments_lexer": "ipython3",
   "version": "3.10.0"
  }
 },
 "nbformat": 4,
 "nbformat_minor": 5
}
